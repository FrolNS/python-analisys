{
 "cells": [
  {
   "cell_type": "markdown",
   "id": "a96162ab",
   "metadata": {},
   "source": [
    "## Задание 1"
   ]
  },
  {
   "cell_type": "markdown",
   "id": "639449f4",
   "metadata": {},
   "source": [
    "На складе лежат разные фрукты в разном количестве.\n",
    "Нужно написать функцию, которая на вход принимает любое количество названий фруктов и их количество, а возвращает общее количество фруктов на складе"
   ]
  },
  {
   "cell_type": "code",
   "execution_count": 3,
   "id": "c34e2993",
   "metadata": {},
   "outputs": [],
   "source": [
    "def count_fruits(**kwargs):\n",
    "    return sum(kwargs.values())"
   ]
  },
  {
   "cell_type": "code",
   "execution_count": 7,
   "id": "33f14aef",
   "metadata": {},
   "outputs": [
    {
     "data": {
      "text/plain": [
       "48"
      ]
     },
     "execution_count": 7,
     "metadata": {},
     "output_type": "execute_result"
    }
   ],
   "source": [
    "s = {'x': 11, 'f': 12, 'c': 1}\n",
    "d = {'z': 11, 'a': 12, 'v': 1}\n",
    "count_fruits(**s, **d)"
   ]
  },
  {
   "cell_type": "markdown",
   "id": "4ad60d82",
   "metadata": {},
   "source": [
    "## Задание 2"
   ]
  },
  {
   "cell_type": "markdown",
   "id": "143b4dde",
   "metadata": {},
   "source": [
    "Дан список с затратами на рекламу. Но в данных есть ошибки, некоторые затраты имеют отрицательную величину. Удалите такие значения из списка и посчитайте суммарные затраты"
   ]
  },
  {
   "cell_type": "code",
   "execution_count": 8,
   "id": "5418eaa4",
   "metadata": {},
   "outputs": [],
   "source": [
    "expenses = [100, 125, -90, 345, 655, -1, 0, 200]"
   ]
  },
  {
   "cell_type": "markdown",
   "id": "4a70e9de",
   "metadata": {},
   "source": [
    "Используйте list comprehensions"
   ]
  },
  {
   "cell_type": "code",
   "execution_count": 11,
   "id": "f21f7c28",
   "metadata": {},
   "outputs": [
    {
     "data": {
      "text/plain": [
       "[100, 125, 345, 655, 0, 200]"
      ]
     },
     "execution_count": 11,
     "metadata": {},
     "output_type": "execute_result"
    }
   ],
   "source": [
    "expenses = [i for i in expenses if i >= 0]\n",
    "expenses"
   ]
  },
  {
   "cell_type": "code",
   "execution_count": 12,
   "id": "d3aca138",
   "metadata": {},
   "outputs": [
    {
     "data": {
      "text/plain": [
       "1425"
      ]
     },
     "execution_count": 12,
     "metadata": {},
     "output_type": "execute_result"
    }
   ],
   "source": [
    "sum(expenses)"
   ]
  },
  {
   "cell_type": "markdown",
   "id": "7d6fd105",
   "metadata": {},
   "source": [
    "## Задание 3"
   ]
  },
  {
   "cell_type": "markdown",
   "id": "534cf163",
   "metadata": {},
   "source": [
    "Даны два списка:"
   ]
  },
  {
   "cell_type": "code",
   "execution_count": 15,
   "id": "ca6e4ef5",
   "metadata": {},
   "outputs": [],
   "source": [
    "dates = ['2021-09-14', '2021-12-15', '2021-09-08', '2021-12-05', '2021-10-09', '2021-09-30', '2021-12-22', '2021-11-29', '2021-12-24', '2021-11-26', '2021-10-27', '2021-12-18', '2021-11-09', '2021-11-23', '2021-09-27', '2021-10-02', '2021-12-27', '2021-09-20', '2021-12-13', '2021-11-01', '2021-11-09', '2021-12-06', '2021-12-08', '2021-10-09', '2021-10-31', '2021-09-30', '2021-11-09', '2021-12-13', '2021-10-26', '2021-12-09']\n",
    "amounts = [1270, 8413, 9028, 3703, 5739, 4095, 295, 4944, 5723, 3701, 4471, 651, 7037, 4274, 6275, 4988, 6930, 2971, 6592, 2004, 2822, 519, 3406, 2732, 5015, 2008, 316, 6333, 5700, 2887]"
   ]
  },
  {
   "cell_type": "markdown",
   "id": "2f3a0636",
   "metadata": {},
   "source": [
    "### Подзадача 1"
   ]
  },
  {
   "cell_type": "markdown",
   "id": "db9a69bc",
   "metadata": {},
   "source": [
    "Найдите, какая выручка у компании в ноябре\n",
    "Используйте list comprehensions"
   ]
  },
  {
   "cell_type": "code",
   "execution_count": 33,
   "id": "712a2ce7",
   "metadata": {},
   "outputs": [
    {
     "data": {
      "text/plain": [
       "[4944, 3701, 7037, 4274, 2004, 2822, 316]"
      ]
     },
     "execution_count": 33,
     "metadata": {},
     "output_type": "execute_result"
    }
   ],
   "source": [
    "november = [a for d, a in zip(dates, amounts) if d[5:7] == '11']\n",
    "november"
   ]
  },
  {
   "cell_type": "code",
   "execution_count": 34,
   "id": "43cada93",
   "metadata": {},
   "outputs": [
    {
     "data": {
      "text/plain": [
       "25098"
      ]
     },
     "execution_count": 34,
     "metadata": {},
     "output_type": "execute_result"
    }
   ],
   "source": [
    "sum(november)"
   ]
  },
  {
   "cell_type": "markdown",
   "id": "9ba240f0",
   "metadata": {},
   "source": [
    "### Подзадача 2"
   ]
  },
  {
   "cell_type": "markdown",
   "id": "37af424a",
   "metadata": {},
   "source": [
    "Найдите выручку компании в зависимости от месяца.\n",
    "\n",
    "Для этого напишите функцию, которая на вход принимает список с датами и список с выручкой, а на выходе словарь, где ключи - это месяцы, а значения - это выручка.\n",
    "\n",
    "Используйте аннотирование типов."
   ]
  },
  {
   "cell_type": "code",
   "execution_count": 45,
   "id": "ae628ce4",
   "metadata": {},
   "outputs": [],
   "source": [
    "def amount_of_month(date: list, amount: list) -> dict:\n",
    "    result = {}\n",
    "    for d, a in zip(date, amount):\n",
    "        if d[5:7] in result.keys():\n",
    "            result[d[5:7]] = result[d[5:7]] + a\n",
    "        else:\n",
    "            result[d[5:7]] = a\n",
    "    return result\n"
   ]
  },
  {
   "cell_type": "code",
   "execution_count": 46,
   "id": "6ecafb6c",
   "metadata": {},
   "outputs": [
    {
     "data": {
      "text/plain": [
       "{'09': 25647, '12': 45452, '10': 28645, '11': 25098}"
      ]
     },
     "execution_count": 46,
     "metadata": {},
     "output_type": "execute_result"
    }
   ],
   "source": [
    "amount_of_month(dates, amounts)"
   ]
  },
  {
   "cell_type": "code",
   "execution_count": null,
   "id": "6fa4d440",
   "metadata": {},
   "outputs": [],
   "source": []
  }
 ],
 "metadata": {
  "kernelspec": {
   "display_name": "Python 3 (ipykernel)",
   "language": "python",
   "name": "python3"
  },
  "language_info": {
   "codemirror_mode": {
    "name": "ipython",
    "version": 3
   },
   "file_extension": ".py",
   "mimetype": "text/x-python",
   "name": "python",
   "nbconvert_exporter": "python",
   "pygments_lexer": "ipython3",
   "version": "3.11.3"
  }
 },
 "nbformat": 4,
 "nbformat_minor": 5
}
